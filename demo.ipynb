{
 "cells": [
  {
   "cell_type": "code",
   "execution_count": 1,
   "metadata": {},
   "outputs": [],
   "source": [
    "from src.al_strategy import *\n",
    "import datasets\n",
    "from src.model import Model\n",
    "from src.embedding_utils import get_embedding"
   ]
  },
  {
   "cell_type": "code",
   "execution_count": 2,
   "metadata": {},
   "outputs": [
    {
     "name": "stderr",
     "output_type": "stream",
     "text": [
      "Some weights of the model checkpoint at bert-base-uncased were not used when initializing BertModel: ['cls.predictions.transform.LayerNorm.bias', 'cls.predictions.bias', 'cls.predictions.transform.LayerNorm.weight', 'cls.predictions.transform.dense.weight', 'cls.predictions.transform.dense.bias', 'cls.seq_relationship.bias', 'cls.predictions.decoder.weight', 'cls.seq_relationship.weight']\n",
      "- This IS expected if you are initializing BertModel from the checkpoint of a model trained on another task or with another architecture (e.g. initializing a BertForSequenceClassification model from a BertForPreTraining model).\n",
      "- This IS NOT expected if you are initializing BertModel from the checkpoint of a model that you expect to be exactly identical (initializing a BertForSequenceClassification model from a BertForSequenceClassification model).\n"
     ]
    }
   ],
   "source": [
    "l = get_embedding(\"bert-base-uncased\", [\"This is a test sentence.\", \"This is another test sentence.\"])"
   ]
  },
  {
   "cell_type": "code",
   "execution_count": 3,
   "metadata": {},
   "outputs": [
    {
     "name": "stderr",
     "output_type": "stream",
     "text": [
      "Found cached dataset imdb (/users2/vvaradarajan/.cache/huggingface/datasets/imdb/plain_text/1.0.0/d613c88cf8fa3bab83b4ded3713f1f74830d1100e171db75bbddb80b3345c9c0)\n"
     ]
    },
    {
     "data": {
      "application/vnd.jupyter.widget-view+json": {
       "model_id": "70ef7e2dd8e1446fb8775ad2bb6f9536",
       "version_major": 2,
       "version_minor": 0
      },
      "text/plain": [
       "  0%|          | 0/2 [00:00<?, ?it/s]"
      ]
     },
     "metadata": {},
     "output_type": "display_data"
    }
   ],
   "source": [
    "train_set, test_set = datasets.load_dataset('imdb', split =['train[0:1000]+train[23000:25000]', 'test[0:1000]+test[24000:25000]'])"
   ]
  },
  {
   "cell_type": "code",
   "execution_count": 4,
   "metadata": {},
   "outputs": [
    {
     "name": "stdout",
     "output_type": "stream",
     "text": [
      "1000\n"
     ]
    }
   ],
   "source": [
    "count = 0\n",
    "for i in train_set:\n",
    "    if i['label'] == 0:    # 0: negative review are less in number\n",
    "        count += 1\n",
    "print(count)\n"
   ]
  },
  {
   "cell_type": "code",
   "execution_count": 5,
   "metadata": {},
   "outputs": [],
   "source": [
    "rare_class = 0"
   ]
  },
  {
   "cell_type": "code",
   "execution_count": 6,
   "metadata": {},
   "outputs": [
    {
     "name": "stderr",
     "output_type": "stream",
     "text": [
      "Some weights of the model checkpoint at roberta-base were not used when initializing RobertaForSequenceClassification: ['lm_head.dense.bias', 'lm_head.bias', 'roberta.pooler.dense.bias', 'roberta.pooler.dense.weight', 'lm_head.decoder.weight', 'lm_head.layer_norm.weight', 'lm_head.layer_norm.bias', 'lm_head.dense.weight']\n",
      "- This IS expected if you are initializing RobertaForSequenceClassification from the checkpoint of a model trained on another task or with another architecture (e.g. initializing a BertForSequenceClassification model from a BertForPreTraining model).\n",
      "- This IS NOT expected if you are initializing RobertaForSequenceClassification from the checkpoint of a model that you expect to be exactly identical (initializing a BertForSequenceClassification model from a BertForSequenceClassification model).\n",
      "Some weights of RobertaForSequenceClassification were not initialized from the model checkpoint at roberta-base and are newly initialized: ['classifier.out_proj.bias', 'classifier.out_proj.weight', 'classifier.dense.bias', 'classifier.dense.weight']\n",
      "You should probably TRAIN this model on a down-stream task to be able to use it for predictions and inference.\n"
     ]
    },
    {
     "name": "stdout",
     "output_type": "stream",
     "text": [
      "huggingface/tokenizers: The current process just got forked, after parallelism has already been used. Disabling parallelism to avoid deadlocks...\n",
      "To disable this warning, you can either:\n",
      "\t- Avoid using `tokenizers` before the fork if possible\n",
      "\t- Explicitly set the environment variable TOKENIZERS_PARALLELISM=(true | false)\n",
      "huggingface/tokenizers: The current process just got forked, after parallelism has already been used. Disabling parallelism to avoid deadlocks...\n",
      "To disable this warning, you can either:\n",
      "\t- Avoid using `tokenizers` before the fork if possible\n",
      "\t- Explicitly set the environment variable TOKENIZERS_PARALLELISM=(true | false)\n",
      "huggingface/tokenizers: The current process just got forked, after parallelism has already been used. Disabling parallelism to avoid deadlocks...\n",
      "To disable this warning, you can either:\n",
      "\t- Avoid using `tokenizers` before the fork if possible\n",
      "\t- Explicitly set the environment variable TOKENIZERS_PARALLELISM=(true | false)\n"
     ]
    }
   ],
   "source": [
    "model = Model(\"roberta-base\")"
   ]
  },
  {
   "cell_type": "code",
   "execution_count": 7,
   "metadata": {},
   "outputs": [
    {
     "data": {
      "text/plain": [
       "array([ 734, 1420, 1008, 1339, 1240, 1875, 1238, 1746, 1854,  109, 1024,\n",
       "       1242,   32, 1609, 1040, 1361, 1357,  940, 1733, 1505, 1507,  279,\n",
       "       1336, 1573, 1857,  621, 1849, 1236, 1139, 1489, 1076,  103, 1852,\n",
       "       1872, 1474,  235, 1033,  711, 1859, 1237,  587, 1251,  910, 1858,\n",
       "       1057,   52, 1088,  917, 1383, 1864])"
      ]
     },
     "execution_count": 7,
     "metadata": {},
     "output_type": "execute_result"
    }
   ],
   "source": [
    "strategy = EntropyAL(model=model, annotated_corpus=train_set, unannotated_corpus=test_set, rare_class=rare_class, batch_size=50)\n",
    "strategy.select_indices()"
   ]
  },
  {
   "cell_type": "code",
   "execution_count": 8,
   "metadata": {},
   "outputs": [
    {
     "data": {
      "text/plain": [
       "array([1860,  353, 1333,  905, 1289, 1273,  938, 1731,   65, 1323,   56,\n",
       "       1292, 1118,  584,  374,  275,  746,  128, 1646, 1852,  674, 1664,\n",
       "       1981, 1083, 1922,   99, 1179,  964,  792,   29,  628,  944,  572,\n",
       "        907, 1080,  450, 1609, 1290, 1078,  254,  124, 1927,  251,  585,\n",
       "       1568,  824,  507,  889,   70, 1608])"
      ]
     },
     "execution_count": 8,
     "metadata": {},
     "output_type": "execute_result"
    }
   ],
   "source": [
    "strategy = RandomAL(model=model, annotated_corpus=train_set, unannotated_corpus=test_set, rare_class=rare_class, batch_size=50)\n",
    "strategy.select_indices()"
   ]
  },
  {
   "cell_type": "code",
   "execution_count": 9,
   "metadata": {},
   "outputs": [],
   "source": [
    "#strategy = CAL(model=model, annotated_corpus=train_set, unannotated_corpus=test_set, rare_class=rare_class, batch_size=50)\n",
    "#strategy.select_indices()"
   ]
  },
  {
   "cell_type": "code",
   "execution_count": 10,
   "metadata": {},
   "outputs": [
    {
     "data": {
      "text/plain": [
       "array([1834, 1120,  854,  180, 1149,  634,  584,  851,  181,  759, 1437,\n",
       "        142, 1163, 1151, 1902, 1683,  334, 1148,  229,  802, 1559,  710,\n",
       "        153,  383,  804,  685,  714, 1976,  374,  490,  933,  533,  120,\n",
       "       1319,  163, 1656,  465,  965,  970,   41,  197, 1717, 1846,   10,\n",
       "        144,  558,  672, 1674, 1715,  529])"
      ]
     },
     "execution_count": 10,
     "metadata": {},
     "output_type": "execute_result"
    }
   ],
   "source": [
    "strategy = PRC(model=model, annotated_corpus=train_set, unannotated_corpus=test_set, rare_class=rare_class, batch_size=50)\n",
    "strategy.select_indices()"
   ]
  },
  {
   "cell_type": "code",
   "execution_count": 11,
   "metadata": {},
   "outputs": [
    {
     "name": "stderr",
     "output_type": "stream",
     "text": [
      "100%|███████████████████████████████████████████████████████████| 2000/2000 [01:13<00:00, 27.11it/s]\n"
     ]
    },
    {
     "data": {
      "text/plain": [
       "[318,\n",
       " 1120,\n",
       " 1676,\n",
       " 1222,\n",
       " 734,\n",
       " 1597,\n",
       " 1818,\n",
       " 278,\n",
       " 1097,\n",
       " 1647,\n",
       " 1027,\n",
       " 1203,\n",
       " 584,\n",
       " 599,\n",
       " 1899,\n",
       " 903,\n",
       " 41,\n",
       " 1973,\n",
       " 1517,\n",
       " 1260,\n",
       " 317,\n",
       " 1158,\n",
       " 293,\n",
       " 1298,\n",
       " 1594,\n",
       " 704,\n",
       " 370,\n",
       " 1296,\n",
       " 1128,\n",
       " 1601,\n",
       " 1834,\n",
       " 1645,\n",
       " 1641,\n",
       " 154,\n",
       " 844,\n",
       " 1375,\n",
       " 1920,\n",
       " 150,\n",
       " 1124,\n",
       " 1339,\n",
       " 1956,\n",
       " 598,\n",
       " 1480,\n",
       " 202,\n",
       " 1371,\n",
       " 197,\n",
       " 1185,\n",
       " 1680,\n",
       " 1267,\n",
       " 1165]"
      ]
     },
     "execution_count": 11,
     "metadata": {},
     "output_type": "execute_result"
    }
   ],
   "source": [
    "strategy = CoreSetAL(model=model, annotated_corpus=train_set, unannotated_corpus=test_set, rare_class=rare_class, batch_size=50)\n",
    "strategy.select_indices()"
   ]
  },
  {
   "cell_type": "code",
   "execution_count": null,
   "metadata": {},
   "outputs": [],
   "source": []
  }
 ],
 "metadata": {
  "kernelspec": {
   "display_name": "hart",
   "language": "python",
   "name": "hart"
  },
  "language_info": {
   "codemirror_mode": {
    "name": "ipython",
    "version": 3
   },
   "file_extension": ".py",
   "mimetype": "text/x-python",
   "name": "python",
   "nbconvert_exporter": "python",
   "pygments_lexer": "ipython3",
   "version": "3.8.0"
  },
  "orig_nbformat": 4
 },
 "nbformat": 4,
 "nbformat_minor": 2
}
